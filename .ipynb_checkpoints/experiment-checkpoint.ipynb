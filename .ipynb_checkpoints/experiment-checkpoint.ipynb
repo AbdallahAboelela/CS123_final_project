{
 "cells": [
  {
   "cell_type": "code",
   "execution_count": 4,
   "metadata": {},
   "outputs": [],
   "source": [
    "import osmnx as ox\n",
    "import geopandas as gpd\n",
    "from shapely.ops import cascaded_union"
   ]
  },
  {
   "cell_type": "code",
   "execution_count": 6,
   "metadata": {},
   "outputs": [
    {
     "data": {
      "text/plain": [
       "0    (POLYGON ((-74.05050806403247 40.5664220341608...\n",
       "dtype: object"
      ]
     },
     "execution_count": 6,
     "metadata": {},
     "output_type": "execute_result"
    }
   ],
   "source": [
    "borough_bds = gpd.read_file('borough_bds.geojson')\n",
    "## Source: https://stackoverflow.com/questions/40385782/\n",
    "## make-a-union-of-polygons-in-python-geopandas-or-shapely-into-a-single-geometr\n",
    "polygon = gpd.GeoSeries(cascaded_union(borough_bds['geometry']))\n",
    "polygon"
   ]
  },
  {
   "cell_type": "code",
   "execution_count": 8,
   "metadata": {},
   "outputs": [],
   "source": [
    "G = ox.graph_from_polygon(polygon[0], network_type='drive')"
   ]
  },
  {
   "cell_type": "code",
   "execution_count": null,
   "metadata": {},
   "outputs": [],
   "source": [
    "G_projected = ox.project_graph(G)\n",
    "fig, ax = ox.plot_graph(G_projected)"
   ]
  },
  {
   "cell_type": "code",
   "execution_count": null,
   "metadata": {},
   "outputs": [],
   "source": [
    "nodes_proj, edges_proj = ox.graph_to_gdfs(G, nodes=True, edges=True)\n",
    "edges_proj.head()"
   ]
  }
 ],
 "metadata": {
  "kernelspec": {
   "display_name": "Python 3",
   "language": "python",
   "name": "python3"
  },
  "language_info": {
   "codemirror_mode": {
    "name": "ipython",
    "version": 3
   },
   "file_extension": ".py",
   "mimetype": "text/x-python",
   "name": "python",
   "nbconvert_exporter": "python",
   "pygments_lexer": "ipython3",
   "version": "3.6.5"
  }
 },
 "nbformat": 4,
 "nbformat_minor": 2
}
