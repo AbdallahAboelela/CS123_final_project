{
 "cells": [
  {
   "cell_type": "code",
   "execution_count": 1,
   "metadata": {},
   "outputs": [],
   "source": [
    "import osmnx as ox\n",
    "import geopandas as gpd\n",
    "from shapely.ops import cascaded_union\n",
    "import networkx as nx\n",
    "import itertools\n",
    "import pickle\n",
    "\n",
    "def construct_G_adj():\n",
    "    import pandas as pd\n",
    "    borough_bds = gpd.read_file('borough_bds.geojson')\n",
    "    ## Source: https://stackoverflow.com/questions/40385782/\n",
    "    ## make-a-union-of-polygons-in-python-geopandas-or-shapely-into-a-single-geometr\n",
    "    polygon = gpd.GeoSeries(cascaded_union(borough_bds['geometry']))\n",
    "    G = ox.graph_from_polygon(polygon[0], network_type='drive')\n",
    "\n",
    "\n",
    "    speed_lims = gpd.read_file('speed_lims.geojson')\n",
    "    speed_lims.drop(['shape_leng', 'postvz_sg', 'street'], axis=1, inplace=True)\n",
    "    speed_lims['postvz_sl'] = speed_lims['postvz_sl'].astype(int)\n",
    "    speed_lims['postvz_sl'][speed_lims['postvz_sl'] == 0] = 25\n",
    "\n",
    "    speed_lims_bounds = speed_lims['geometry'].bounds\n",
    "    speed_lims['u'] = ox.get_nearest_nodes(G, speed_lims_bounds['minx'],\\\n",
    "        speed_lims_bounds['miny'], method='kdtree')\n",
    "    speed_lims['v'] = ox.get_nearest_nodes(G, speed_lims_bounds['maxx'],\\\n",
    "        speed_lims_bounds['maxy'], method='kdtree')\n",
    "    speed_lims['A'] = speed_lims['u'].map(str) + ' ' + speed_lims['v'].astype(str)\n",
    "    speed_lims['B'] = speed_lims['v'].map(str) + ' ' + speed_lims['u'].astype(str)\n",
    "\n",
    "    speed_lims.drop(['geometry', 'u', 'v'], axis=1, inplace=True)\n",
    "\n",
    "    ## speed_lims columns: [postvz_sl, node_1, node_2]\n",
    "\n",
    "    # dataframe \n",
    "    nodes_proj, edges_proj = ox.graph_to_gdfs(G, nodes=True, edges=True)\n",
    "    edges_proj['A'] = edges_proj['u'].map(str) + ' ' + edges_proj['v'].astype(str)\n",
    "\n",
    "    ### merge the data frame    \n",
    "    merged_df_1 = edges_proj.merge(speed_lims[['postvz_sl', 'A']], how='left', on=['A'])\n",
    "    merged_df_2 = edges_proj.merge(speed_lims[['postvz_sl', 'B']], how='left', left_on=['A'], right_on=['B'])\n",
    "    \n",
    "    merged_df = merged_df_1.merge(merged_df_2[['postvz_sl', 'A']], on=['A'])\n",
    "    merged_df.drop('A', axis=1, inplace=True)\n",
    "\n",
    "    nan_speed = pd.isnull(merged_df['postvz_sl_x'])\n",
    "    merged_df['postvz_sl_x'][nan_speed] = merged_df['postvz_sl_y'][nan_speed]\n",
    "    merged_df.drop('postvz_sl_y', axis=1, inplace=True)\n",
    "    nan_speed_2 = pd.isnull(merged_df['postvz_sl_x'])\n",
    "    merged_df['postvz_sl_x'][nan_speed_2] = 25\n",
    "\n",
    "    ##\n",
    "    # 'length' is in meters so need to convert miles to meters\n",
    "    merged_df['postvz_sl_x'] *= 1609.34 / 60\n",
    "    print(merged_df.columns)\n",
    "    merged_df['time'] = merged_df['length'] / merged_df['postvz_sl_x']\n",
    "    merged_df.drop(['postvz_sl_x'], axis=1, inplace=True)\n",
    "    G_adj = ox.save_load.gdfs_to_graph(nodes_proj, merged_df)  # we can save this and call this when need it in function \n",
    "    # pickle.dump(G_adj, open('G_adj.p', 'wb'))\n",
    "\n",
    "    pickle.dump(merged_df, open('G_edges_proj.p', 'wb'))"
   ]
  },
  {
   "cell_type": "code",
   "execution_count": 2,
   "metadata": {},
   "outputs": [
    {
     "name": "stderr",
     "output_type": "stream",
     "text": [
      "/anaconda3/lib/python3.6/site-packages/ipykernel_launcher.py:20: SettingWithCopyWarning: \n",
      "A value is trying to be set on a copy of a slice from a DataFrame\n",
      "\n",
      "See the caveats in the documentation: http://pandas.pydata.org/pandas-docs/stable/indexing.html#indexing-view-versus-copy\n",
      "/anaconda3/lib/python3.6/site-packages/ipykernel_launcher.py:44: SettingWithCopyWarning: \n",
      "A value is trying to be set on a copy of a slice from a DataFrame\n",
      "\n",
      "See the caveats in the documentation: http://pandas.pydata.org/pandas-docs/stable/indexing.html#indexing-view-versus-copy\n",
      "/anaconda3/lib/python3.6/site-packages/ipykernel_launcher.py:47: SettingWithCopyWarning: \n",
      "A value is trying to be set on a copy of a slice from a DataFrame\n",
      "\n",
      "See the caveats in the documentation: http://pandas.pydata.org/pandas-docs/stable/indexing.html#indexing-view-versus-copy\n"
     ]
    },
    {
     "name": "stdout",
     "output_type": "stream",
     "text": [
      "Index(['access', 'bridge', 'geometry', 'highway', 'junction', 'key', 'lanes',\n",
      "       'length', 'maxspeed', 'name', 'oneway', 'osmid', 'ref', 'service',\n",
      "       'tunnel', 'u', 'v', 'width', 'postvz_sl_x'],\n",
      "      dtype='object')\n"
     ]
    }
   ],
   "source": [
    "construct_G_adj()"
   ]
  },
  {
   "cell_type": "code",
   "execution_count": null,
   "metadata": {},
   "outputs": [],
   "source": []
  }
 ],
 "metadata": {
  "kernelspec": {
   "display_name": "Python 3",
   "language": "python",
   "name": "python3"
  },
  "language_info": {
   "codemirror_mode": {
    "name": "ipython",
    "version": 3
   },
   "file_extension": ".py",
   "mimetype": "text/x-python",
   "name": "python",
   "nbconvert_exporter": "python",
   "pygments_lexer": "ipython3",
   "version": "3.6.5"
  }
 },
 "nbformat": 4,
 "nbformat_minor": 2
}
